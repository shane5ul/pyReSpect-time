{
 "cells": [
  {
   "cell_type": "code",
   "execution_count": 9,
   "metadata": {
    "collapsed": true,
    "deletable": true,
    "editable": true
   },
   "outputs": [],
   "source": [
    "import numpy as np\n",
    "import matplotlib.pyplot as plt"
   ]
  },
  {
   "cell_type": "markdown",
   "metadata": {},
   "source": [
    "# Continuous Spectrum"
   ]
  },
  {
   "cell_type": "code",
   "execution_count": 2,
   "metadata": {
    "collapsed": false,
    "deletable": true,
    "editable": true
   },
   "outputs": [],
   "source": [
    "# import ContSpect interactively; this does not run anything!\n",
    "from contSpec import *"
   ]
  },
  {
   "cell_type": "code",
   "execution_count": 3,
   "metadata": {
    "collapsed": false,
    "deletable": true,
    "editable": true
   },
   "outputs": [
    {
     "name": "stdout",
     "output_type": "stream",
     "text": [
      "Input parameters look OK ...\n",
      "\n",
      "(*) Start\n",
      "(*) Loading Data File: tests/test3.dat...\n",
      "(*) Initial Set up...\t(0.3 seconds)\n",
      "(*) Building the L-curve ...1.615e-05 (3.0 seconds)\n",
      "(*) Extracting the continuous spectrum, ...done (0.2 seconds)\n",
      "(*) Writing and Printing, ...done\n",
      "(*) End\n",
      "\n"
     ]
    }
   ],
   "source": [
    "# This runs the code in regular form using inp.dat\n",
    "par = common.readInput('inp.dat')\n",
    "Hc, lamC = getContSpec(par)\n",
    "plt.clf()"
   ]
  },
  {
   "cell_type": "code",
   "execution_count": 4,
   "metadata": {
    "collapsed": true,
    "deletable": true,
    "editable": true
   },
   "outputs": [],
   "source": [
    "s, t, kernMat, Gexp, par, lam, rho, eta = guiFurnishGlobals(par)"
   ]
  },
  {
   "cell_type": "markdown",
   "metadata": {
    "deletable": true,
    "editable": true
   },
   "source": [
    "Currently all the variables assigned in the jupyter notebook are visible as global to to guiUpdatePlot."
   ]
  },
  {
   "cell_type": "code",
   "execution_count": 5,
   "metadata": {
    "collapsed": false,
    "deletable": true,
    "editable": true
   },
   "outputs": [],
   "source": [
    "def guiUpdatePlot(SmoothFac):\n",
    "\n",
    "    lam_min  = 1e-10\n",
    "    lam_max  = 1e+1\n",
    "    \n",
    "    # Dialling in the Smoothness Factor\n",
    "    if SmoothFac > 0:\n",
    "        lamda = np.exp(np.log(lamC) + SmoothFac*(np.log(lam_max) - np.log(lamC)));\n",
    "    elif SmoothFac < 0:\n",
    "        lamda = np.exp(np.log(lamC) + SmoothFac*(np.log(lamC) - np.log(lam_min)));\n",
    "    else:\n",
    "        lamda = lamC\n",
    "        \n",
    "    fig, ax = plt.subplots(figsize=(12,4), nrows=1, ncols=3)\n",
    "\n",
    "    # plotsInteractivity\n",
    "    \n",
    "    H     = getH(lamda, Gexp, Hc, kernMat)\n",
    "    K     = common.kernel_prestore(H, kernMat)\n",
    "    rhost = np.exp(np.interp(np.log(lamC), np.log(lam), np.log(rho)))\n",
    "    etast = np.exp(np.interp(np.log(lamC), np.log(lam), np.log(eta)))\n",
    "\n",
    "    rhox = np.exp(np.interp(np.log(lamda), np.log(lam), np.log(rho)))\n",
    "    etax = np.exp(np.interp(np.log(lamda), np.log(lam), np.log(eta)))\n",
    "    \n",
    "    ax[0].loglog(t, Gexp,'o',t, K, 'k-')\n",
    "    ax[0].set_xlabel(r'$t$')\n",
    "    ax[0].set_ylabel(r'$G(t)$')\n",
    "    \n",
    "    ax[1].semilogx(s,H,'o-')\n",
    "    ax[1].set_xlabel(r'$s$')\n",
    "    ax[1].set_ylabel(r'$H(s)$')\n",
    "\n",
    "    ax[2].plot(rho, eta, 'x-')\n",
    "    ax[2].scatter(rhost, etast, color='k')\n",
    "    ax[2].scatter(rhox, etax, color='g')\n",
    "\n",
    "    ax[2].set_xscale('log')\n",
    "    ax[2].set_yscale('log')    \n",
    "\n",
    "    ax[2].set_xlabel(r'$\\rho$')\n",
    "    ax[2].set_ylabel(r'$\\eta$')\n",
    "    \n",
    "    # figure settings\n",
    "    fig.tight_layout()\n",
    "    \n",
    "    plt.show()"
   ]
  },
  {
   "cell_type": "markdown",
   "metadata": {
    "deletable": true,
    "editable": true
   },
   "source": [
    "### Interactivity"
   ]
  },
  {
   "cell_type": "code",
   "execution_count": 6,
   "metadata": {
    "collapsed": false,
    "deletable": true,
    "editable": true
   },
   "outputs": [],
   "source": [
    "from ipywidgets import interact, fixed\n",
    "import ipywidgets as widgets"
   ]
  },
  {
   "cell_type": "code",
   "execution_count": 12,
   "metadata": {
    "collapsed": false,
    "deletable": true,
    "editable": true
   },
   "outputs": [
    {
     "data": {
      "application/vnd.jupyter.widget-view+json": {
       "model_id": "b11a3f8ad76d4cd1a2c58a768ad15673"
      }
     },
     "metadata": {},
     "output_type": "display_data"
    },
    {
     "data": {
      "text/plain": [
       "<function __main__.guiUpdatePlot>"
      ]
     },
     "execution_count": 12,
     "metadata": {},
     "output_type": "execute_result"
    }
   ],
   "source": [
    "interact(guiUpdatePlot, SmoothFac=widgets.FloatSlider(min=-1, max=1, value=0, step=0.05, continuous_update=False))"
   ]
  },
  {
   "cell_type": "code",
   "execution_count": null,
   "metadata": {
    "collapsed": true
   },
   "outputs": [],
   "source": []
  }
 ],
 "metadata": {
  "kernelspec": {
   "display_name": "Python 3",
   "language": "python",
   "name": "python3"
  },
  "language_info": {
   "codemirror_mode": {
    "name": "ipython",
    "version": 3
   },
   "file_extension": ".py",
   "mimetype": "text/x-python",
   "name": "python",
   "nbconvert_exporter": "python",
   "pygments_lexer": "ipython3",
   "version": "3.5.2"
  }
 },
 "nbformat": 4,
 "nbformat_minor": 2
}
